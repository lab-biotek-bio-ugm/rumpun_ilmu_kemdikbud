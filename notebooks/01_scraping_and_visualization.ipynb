{
 "cells": [
  {
   "cell_type": "code",
   "execution_count": null,
   "id": "068a19ba-d0b1-4b10-9101-edf009acb712",
   "metadata": {},
   "outputs": [],
   "source": [
    "import camelot\n",
    "import pandas as pd\n",
    "from pathlib import Path\n",
    "import plotly.express as px\n",
    "import plotly.offline as pyo\n",
    "import plotly.io as pio\n",
    "pio.renderers.default='notebook'"
   ]
  },
  {
   "cell_type": "code",
   "execution_count": null,
   "id": "5e36a8b5-c490-44f5-9e8a-030f8bc6f146",
   "metadata": {},
   "outputs": [],
   "source": [
    "dataset = []\n",
    "pdf_file = Path(\"../data/raw/Daftar Rumpun, Pohon, dan Cabang Ilmu (Diperbarui 05 Juni 2024).pdf\")\n",
    "for page in range(36):\n",
    "    p = page + 1\n",
    "    pdf = camelot.read_pdf(str(pdf_file), pages=str(p))\n",
    "    print(\"processing page\", p, len(pdf))\n",
    "    if len(pdf) > 0:\n",
    "        dataset.append(pdf[0].df.loc[1:, :])\n",
    "    else:\n",
    "        print(f\"Warning: please check page {p}\")"
   ]
  },
  {
   "cell_type": "code",
   "execution_count": null,
   "id": "6db8ff57",
   "metadata": {},
   "outputs": [],
   "source": [
    "df = pd.concat(dataset)\n",
    "df = df.rename(columns={0: \"Rumpun Ilmu\", \n",
    "                        1: \"Rumpun Ilmu (Bahasa Inggris)\",\n",
    "                        2: \"Pohon Ilmu\",\n",
    "                        3: \"Pohon Ilmu (Bahasa Inggris)\",\n",
    "                        4: \"Cabang Ilmu\",\n",
    "                        5: \"Cabang Ilmu (Bahasa Inggris)\"\n",
    "                       })\n",
    "df = df.replace('\\n', '', regex=True)\n",
    "df[(df[\"Pohon Ilmu (Bahasa Inggris)\"] == \"\") & (df[\"Pohon Ilmu\"] == \"JEJARING KEILMUAN MULTI, INTER, ATAU TRANSDISIPLIN\")][\"Pohon Ilmu (Bahasa Inggris)\"] = \"NETWORKS OF MULTI, INTER, OR TRANSDISCIPLINARY SCIENCES\"\n",
    "df[(df[\"Pohon Ilmu (Bahasa Inggris)\"] == \"\") & (df[\"Pohon Ilmu\"] == \"MILITER-ILMU ATAU SAINS MILITER MILITARY-MILITARY SCIENCE\")][\"Pohon Ilmu (Bahasa Inggris)\"] = \"MILITARY SCIENCE\"\n",
    "df[df[\"Pohon Ilmu\"] == \"MILITER-ILMU ATAU SAINS MILITER MILITARY-MILITARY SCIENCE\"][\"Pohon Ilmu\"] = \"MILITER-ILMU ATAU SAINS MILITER\"\n",
    "outfile = Path(f\"../data/processed/{pdf_file.stem}.tsv\".replace(\",\", \"\").replace(\" \", \"_\"))\n",
    "outfile.parent.mkdir(exist_ok=True, parents=True)\n",
    "df.to_csv(outfile, sep=\"\\t\")\n",
    "\n",
    "#MILITER-ILMU ATAU SAINS MILITER MILITARY-MILITARY SCIENCE"
   ]
  },
  {
   "cell_type": "code",
   "execution_count": null,
   "id": "59035339-b098-4263-84ca-70c8dc62ee4b",
   "metadata": {},
   "outputs": [],
   "source": [
    "def sunburst_chart(df, item):\n",
    "    fig = px.sunburst(df, path=item,\n",
    "                    color=item[1],\n",
    "                    color_discrete_sequence=px.colors.qualitative.Pastel,\n",
    "                    maxdepth=-1, \n",
    "                    title=item[0])\n",
    "\n",
    "    fig.update_traces(textinfo='label')\n",
    "    fig.update_layout(margin=dict(t=0, l=0, r=0, b=0))\n",
    "    return fig\n",
    "\n",
    "language = {\"INDONESIAN\" : ['Rumpun Ilmu', 'Pohon Ilmu', 'Cabang Ilmu'],\n",
    "            \"ENGLISH\" : ['Rumpun Ilmu (Bahasa Inggris)', 'Pohon Ilmu (Bahasa Inggris)', 'Cabang Ilmu (Bahasa Inggris)']}\n",
    "ctr = 1\n",
    "for category, item in language.items():\n",
    "    fig = []\n",
    "    fig = sunburst_chart(df, item)\n",
    "\n",
    "    # Export the figure as an HTML file\n",
    "    outfile = Path(f'../figures/{ctr}_sunburst_chart_all_{category}.html')\n",
    "    outfile.parent.mkdir(exist_ok=True, parents=True)\n",
    "    pio.write_html(fig, file=str(outfile))\n",
    "    ctr = ctr + 1"
   ]
  },
  {
   "cell_type": "code",
   "execution_count": null,
   "id": "9a6d0091-d23a-4180-a666-24b1e65ba31a",
   "metadata": {},
   "outputs": [],
   "source": [
    "# Create a boolean Series where True indicates the row contains \"bio\"\n",
    "include_terms = ['BIO', 'PERTANIAN', 'PETERNAKAN', 'PERIKANAN', 'KESEHATAN', 'KONSERVASI', 'HAYATI', 'LINGKUNGAN', 'KEHUTANAN']\n",
    "ignore_terms = ['KONSERVASI SENI', 'ASURANSI KESEHATAN', 'SOSIAL-KESEHATAN', 'KEPERAWATAN', 'KEBIDANAN',\n",
    "               'HUKUM KESEHATAN', 'SOSIAL-KESEHATAN', 'KEDOKTERAN GIGI']\n",
    "\n",
    "contains_term = df.apply(lambda row: any(term in str(row) for term in include_terms) and all(term not in str(row) for term in ignore_terms), axis=1)\n",
    "# Get all rows where any cell contains \"bio\"\n",
    "df_with_bio = df[contains_term]"
   ]
  },
  {
   "cell_type": "code",
   "execution_count": null,
   "id": "3019fae3-fdef-40ec-8575-8e91952abcda",
   "metadata": {},
   "outputs": [],
   "source": [
    "fig = px.sunburst(df_with_bio, path=['Rumpun Ilmu', 'Pohon Ilmu', 'Cabang Ilmu'],\n",
    "                  color='Pohon Ilmu',\n",
    "                  color_discrete_sequence=px.colors.qualitative.Pastel,\n",
    "                  maxdepth=-1, \n",
    "                  title=\"Rumpun Ilmu\")\n",
    "\n",
    "fig.update_traces(textinfo='label')\n",
    "fig.update_layout(margin=dict(t=0, l=0, r=0, b=0))\n",
    "\n",
    "# Export the figure as an HTML file\n",
    "outfile = Path('../figures/3_sunburst_chart_bio_INDONESIA.html')\n",
    "outfile.parent.mkdir(exist_ok=True, parents=True)\n",
    "pio.write_html(fig, file=str(outfile))"
   ]
  }
 ],
 "metadata": {
  "kernelspec": {
   "display_name": "Python 3 (ipykernel)",
   "language": "python",
   "name": "python3"
  },
  "language_info": {
   "codemirror_mode": {
    "name": "ipython",
    "version": 3
   },
   "file_extension": ".py",
   "mimetype": "text/x-python",
   "name": "python",
   "nbconvert_exporter": "python",
   "pygments_lexer": "ipython3",
   "version": "3.11.0"
  }
 },
 "nbformat": 4,
 "nbformat_minor": 5
}
